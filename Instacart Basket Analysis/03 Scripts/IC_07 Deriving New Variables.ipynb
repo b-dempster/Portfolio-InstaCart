{
 "cells": [
  {
   "cell_type": "markdown",
   "id": "e650c2f6",
   "metadata": {},
   "source": [
    "# Contents"
   ]
  },
  {
   "cell_type": "markdown",
   "id": "c60f527d",
   "metadata": {},
   "source": [
    "## 01 Set up"
   ]
  },
  {
   "cell_type": "markdown",
   "id": "7e520e5b",
   "metadata": {},
   "source": [
    "## 02 Generating a sample"
   ]
  },
  {
   "cell_type": "markdown",
   "id": "d27ecd51",
   "metadata": {},
   "source": [
    "## 03 Working with user defined functions"
   ]
  },
  {
   "cell_type": "markdown",
   "id": "ca50a4d8",
   "metadata": {},
   "source": [
    "## 04 Working with the loc() function from the python librariesf"
   ]
  },
  {
   "cell_type": "markdown",
   "id": "f5d0c380",
   "metadata": {},
   "source": [
    "## 05 If statements with For loops"
   ]
  },
  {
   "cell_type": "markdown",
   "id": "b2332926",
   "metadata": {},
   "source": [
    "## 06 Handling a change request from a customer."
   ]
  },
  {
   "cell_type": "markdown",
   "id": "4294f2d5",
   "metadata": {},
   "source": [
    "## 07 Ad Hoc Request - Determining Busiest Period of the Day"
   ]
  },
  {
   "cell_type": "markdown",
   "id": "7141c9c7",
   "metadata": {},
   "source": [
    "## 08 Creating a flag by merging a list to the dataframe"
   ]
  },
  {
   "cell_type": "markdown",
   "id": "07934d86",
   "metadata": {},
   "source": [
    "## 09 Exporting df to pickle file"
   ]
  },
  {
   "cell_type": "markdown",
   "id": "c9dc84f2",
   "metadata": {},
   "source": [
    "### 01 Set up"
   ]
  },
  {
   "cell_type": "code",
   "execution_count": 1,
   "id": "7fad20f3",
   "metadata": {},
   "outputs": [],
   "source": [
    "# Import Libraries\n",
    "import pandas as pd\n",
    "import numpy as np\n",
    "import os"
   ]
  },
  {
   "cell_type": "code",
   "execution_count": 2,
   "id": "fc66d496",
   "metadata": {},
   "outputs": [],
   "source": [
    "# Defining the main project path\n",
    "proj = r'C:\\Users\\bfd_6\\Documents\\Career Foundry Project\\Course Part 2\\A4 Python\\Instacart Basket Analysis'"
   ]
  },
  {
   "cell_type": "code",
   "execution_count": 3,
   "id": "15de35f7",
   "metadata": {},
   "outputs": [],
   "source": [
    "# Creating a data frame for the orders_products_merged dataset\n",
    "df_op_merged = pd.read_pickle(os.path.join(proj, '02 Data', 'Prepared Data', 'orders_products_merged.pkl'))"
   ]
  },
  {
   "cell_type": "markdown",
   "id": "97294e16",
   "metadata": {},
   "source": [
    "### 02 Generating a sample"
   ]
  },
  {
   "cell_type": "code",
   "execution_count": 4,
   "id": "7c6211d7",
   "metadata": {},
   "outputs": [],
   "source": [
    "# Creating a sample for the steps in this exercise\n",
    "df_sample = df_op_merged[:1000000]"
   ]
  },
  {
   "cell_type": "code",
   "execution_count": 5,
   "id": "8c6bfebd",
   "metadata": {},
   "outputs": [
    {
     "data": {
      "text/html": [
       "<div>\n",
       "<style scoped>\n",
       "    .dataframe tbody tr th:only-of-type {\n",
       "        vertical-align: middle;\n",
       "    }\n",
       "\n",
       "    .dataframe tbody tr th {\n",
       "        vertical-align: top;\n",
       "    }\n",
       "\n",
       "    .dataframe thead th {\n",
       "        text-align: right;\n",
       "    }\n",
       "</style>\n",
       "<table border=\"1\" class=\"dataframe\">\n",
       "  <thead>\n",
       "    <tr style=\"text-align: right;\">\n",
       "      <th></th>\n",
       "      <th>order_id</th>\n",
       "      <th>user_id</th>\n",
       "      <th>order_number</th>\n",
       "      <th>orders_day_of_week</th>\n",
       "      <th>order_hour_of_day</th>\n",
       "      <th>days_since_prior_order</th>\n",
       "      <th>product_id</th>\n",
       "      <th>add_to_cart_order</th>\n",
       "      <th>reordered</th>\n",
       "      <th>product_name</th>\n",
       "      <th>aisle_id</th>\n",
       "      <th>department_id</th>\n",
       "      <th>prices</th>\n",
       "      <th>_merge</th>\n",
       "    </tr>\n",
       "  </thead>\n",
       "  <tbody>\n",
       "    <tr>\n",
       "      <th>0</th>\n",
       "      <td>2539329</td>\n",
       "      <td>1</td>\n",
       "      <td>1</td>\n",
       "      <td>2</td>\n",
       "      <td>8</td>\n",
       "      <td>NaN</td>\n",
       "      <td>196</td>\n",
       "      <td>1</td>\n",
       "      <td>0</td>\n",
       "      <td>Soda</td>\n",
       "      <td>77</td>\n",
       "      <td>7</td>\n",
       "      <td>9.0</td>\n",
       "      <td>both</td>\n",
       "    </tr>\n",
       "    <tr>\n",
       "      <th>1</th>\n",
       "      <td>2398795</td>\n",
       "      <td>1</td>\n",
       "      <td>2</td>\n",
       "      <td>3</td>\n",
       "      <td>7</td>\n",
       "      <td>15.0</td>\n",
       "      <td>196</td>\n",
       "      <td>1</td>\n",
       "      <td>1</td>\n",
       "      <td>Soda</td>\n",
       "      <td>77</td>\n",
       "      <td>7</td>\n",
       "      <td>9.0</td>\n",
       "      <td>both</td>\n",
       "    </tr>\n",
       "    <tr>\n",
       "      <th>2</th>\n",
       "      <td>473747</td>\n",
       "      <td>1</td>\n",
       "      <td>3</td>\n",
       "      <td>3</td>\n",
       "      <td>12</td>\n",
       "      <td>21.0</td>\n",
       "      <td>196</td>\n",
       "      <td>1</td>\n",
       "      <td>1</td>\n",
       "      <td>Soda</td>\n",
       "      <td>77</td>\n",
       "      <td>7</td>\n",
       "      <td>9.0</td>\n",
       "      <td>both</td>\n",
       "    </tr>\n",
       "    <tr>\n",
       "      <th>3</th>\n",
       "      <td>2254736</td>\n",
       "      <td>1</td>\n",
       "      <td>4</td>\n",
       "      <td>4</td>\n",
       "      <td>7</td>\n",
       "      <td>29.0</td>\n",
       "      <td>196</td>\n",
       "      <td>1</td>\n",
       "      <td>1</td>\n",
       "      <td>Soda</td>\n",
       "      <td>77</td>\n",
       "      <td>7</td>\n",
       "      <td>9.0</td>\n",
       "      <td>both</td>\n",
       "    </tr>\n",
       "    <tr>\n",
       "      <th>4</th>\n",
       "      <td>431534</td>\n",
       "      <td>1</td>\n",
       "      <td>5</td>\n",
       "      <td>4</td>\n",
       "      <td>15</td>\n",
       "      <td>28.0</td>\n",
       "      <td>196</td>\n",
       "      <td>1</td>\n",
       "      <td>1</td>\n",
       "      <td>Soda</td>\n",
       "      <td>77</td>\n",
       "      <td>7</td>\n",
       "      <td>9.0</td>\n",
       "      <td>both</td>\n",
       "    </tr>\n",
       "  </tbody>\n",
       "</table>\n",
       "</div>"
      ],
      "text/plain": [
       "   order_id  user_id  order_number  orders_day_of_week  order_hour_of_day  \\\n",
       "0   2539329        1             1                   2                  8   \n",
       "1   2398795        1             2                   3                  7   \n",
       "2    473747        1             3                   3                 12   \n",
       "3   2254736        1             4                   4                  7   \n",
       "4    431534        1             5                   4                 15   \n",
       "\n",
       "   days_since_prior_order  product_id  add_to_cart_order  reordered  \\\n",
       "0                     NaN         196                  1          0   \n",
       "1                    15.0         196                  1          1   \n",
       "2                    21.0         196                  1          1   \n",
       "3                    29.0         196                  1          1   \n",
       "4                    28.0         196                  1          1   \n",
       "\n",
       "  product_name  aisle_id  department_id  prices _merge  \n",
       "0         Soda        77              7     9.0   both  \n",
       "1         Soda        77              7     9.0   both  \n",
       "2         Soda        77              7     9.0   both  \n",
       "3         Soda        77              7     9.0   both  \n",
       "4         Soda        77              7     9.0   both  "
      ]
     },
     "execution_count": 5,
     "metadata": {},
     "output_type": "execute_result"
    }
   ],
   "source": [
    "# Checking on the sample\n",
    "df_sample.head()"
   ]
  },
  {
   "cell_type": "markdown",
   "id": "ac1ca7da",
   "metadata": {},
   "source": [
    "#### Dropping the merge flag from the sample to make it more efficient."
   ]
  },
  {
   "cell_type": "code",
   "execution_count": 6,
   "id": "610b1cad",
   "metadata": {},
   "outputs": [],
   "source": [
    "# Dropping the _merge flag for the sample for efficiency. It is not needed for this practice session.\n",
    "df_sample = df_sample.drop(columns = ['_merge'])"
   ]
  },
  {
   "cell_type": "code",
   "execution_count": 7,
   "id": "550ca215",
   "metadata": {},
   "outputs": [
    {
     "data": {
      "text/html": [
       "<div>\n",
       "<style scoped>\n",
       "    .dataframe tbody tr th:only-of-type {\n",
       "        vertical-align: middle;\n",
       "    }\n",
       "\n",
       "    .dataframe tbody tr th {\n",
       "        vertical-align: top;\n",
       "    }\n",
       "\n",
       "    .dataframe thead th {\n",
       "        text-align: right;\n",
       "    }\n",
       "</style>\n",
       "<table border=\"1\" class=\"dataframe\">\n",
       "  <thead>\n",
       "    <tr style=\"text-align: right;\">\n",
       "      <th></th>\n",
       "      <th>order_id</th>\n",
       "      <th>user_id</th>\n",
       "      <th>order_number</th>\n",
       "      <th>orders_day_of_week</th>\n",
       "      <th>order_hour_of_day</th>\n",
       "      <th>days_since_prior_order</th>\n",
       "      <th>product_id</th>\n",
       "      <th>add_to_cart_order</th>\n",
       "      <th>reordered</th>\n",
       "      <th>product_name</th>\n",
       "      <th>aisle_id</th>\n",
       "      <th>department_id</th>\n",
       "      <th>prices</th>\n",
       "    </tr>\n",
       "  </thead>\n",
       "  <tbody>\n",
       "    <tr>\n",
       "      <th>0</th>\n",
       "      <td>2539329</td>\n",
       "      <td>1</td>\n",
       "      <td>1</td>\n",
       "      <td>2</td>\n",
       "      <td>8</td>\n",
       "      <td>NaN</td>\n",
       "      <td>196</td>\n",
       "      <td>1</td>\n",
       "      <td>0</td>\n",
       "      <td>Soda</td>\n",
       "      <td>77</td>\n",
       "      <td>7</td>\n",
       "      <td>9.0</td>\n",
       "    </tr>\n",
       "    <tr>\n",
       "      <th>1</th>\n",
       "      <td>2398795</td>\n",
       "      <td>1</td>\n",
       "      <td>2</td>\n",
       "      <td>3</td>\n",
       "      <td>7</td>\n",
       "      <td>15.0</td>\n",
       "      <td>196</td>\n",
       "      <td>1</td>\n",
       "      <td>1</td>\n",
       "      <td>Soda</td>\n",
       "      <td>77</td>\n",
       "      <td>7</td>\n",
       "      <td>9.0</td>\n",
       "    </tr>\n",
       "    <tr>\n",
       "      <th>2</th>\n",
       "      <td>473747</td>\n",
       "      <td>1</td>\n",
       "      <td>3</td>\n",
       "      <td>3</td>\n",
       "      <td>12</td>\n",
       "      <td>21.0</td>\n",
       "      <td>196</td>\n",
       "      <td>1</td>\n",
       "      <td>1</td>\n",
       "      <td>Soda</td>\n",
       "      <td>77</td>\n",
       "      <td>7</td>\n",
       "      <td>9.0</td>\n",
       "    </tr>\n",
       "    <tr>\n",
       "      <th>3</th>\n",
       "      <td>2254736</td>\n",
       "      <td>1</td>\n",
       "      <td>4</td>\n",
       "      <td>4</td>\n",
       "      <td>7</td>\n",
       "      <td>29.0</td>\n",
       "      <td>196</td>\n",
       "      <td>1</td>\n",
       "      <td>1</td>\n",
       "      <td>Soda</td>\n",
       "      <td>77</td>\n",
       "      <td>7</td>\n",
       "      <td>9.0</td>\n",
       "    </tr>\n",
       "    <tr>\n",
       "      <th>4</th>\n",
       "      <td>431534</td>\n",
       "      <td>1</td>\n",
       "      <td>5</td>\n",
       "      <td>4</td>\n",
       "      <td>15</td>\n",
       "      <td>28.0</td>\n",
       "      <td>196</td>\n",
       "      <td>1</td>\n",
       "      <td>1</td>\n",
       "      <td>Soda</td>\n",
       "      <td>77</td>\n",
       "      <td>7</td>\n",
       "      <td>9.0</td>\n",
       "    </tr>\n",
       "  </tbody>\n",
       "</table>\n",
       "</div>"
      ],
      "text/plain": [
       "   order_id  user_id  order_number  orders_day_of_week  order_hour_of_day  \\\n",
       "0   2539329        1             1                   2                  8   \n",
       "1   2398795        1             2                   3                  7   \n",
       "2    473747        1             3                   3                 12   \n",
       "3   2254736        1             4                   4                  7   \n",
       "4    431534        1             5                   4                 15   \n",
       "\n",
       "   days_since_prior_order  product_id  add_to_cart_order  reordered  \\\n",
       "0                     NaN         196                  1          0   \n",
       "1                    15.0         196                  1          1   \n",
       "2                    21.0         196                  1          1   \n",
       "3                    29.0         196                  1          1   \n",
       "4                    28.0         196                  1          1   \n",
       "\n",
       "  product_name  aisle_id  department_id  prices  \n",
       "0         Soda        77              7     9.0  \n",
       "1         Soda        77              7     9.0  \n",
       "2         Soda        77              7     9.0  \n",
       "3         Soda        77              7     9.0  \n",
       "4         Soda        77              7     9.0  "
      ]
     },
     "execution_count": 7,
     "metadata": {},
     "output_type": "execute_result"
    }
   ],
   "source": [
    "df_sample.head()"
   ]
  },
  {
   "cell_type": "code",
   "execution_count": 8,
   "id": "acf0e180",
   "metadata": {},
   "outputs": [
    {
     "data": {
      "text/plain": [
       "(1000000, 13)"
      ]
     },
     "execution_count": 8,
     "metadata": {},
     "output_type": "execute_result"
    }
   ],
   "source": [
    "df_sample.shape"
   ]
  },
  {
   "cell_type": "markdown",
   "id": "05c5a10c",
   "metadata": {},
   "source": [
    "### 03 Working with user defined functions"
   ]
  },
  {
   "cell_type": "code",
   "execution_count": 9,
   "id": "97d3fd85",
   "metadata": {},
   "outputs": [],
   "source": [
    "# Defining a new function\n",
    "def price_label(row):\n",
    "\n",
    "  if row['prices'] <= 5:\n",
    "    return 'Low-range product'\n",
    "  elif (row['prices'] > 5) and (row['prices'] <= 15):\n",
    "    return 'Mid-range product'\n",
    "  elif row['prices'] > 15:\n",
    "    return 'High range'\n",
    "  else: return 'Not enough data'"
   ]
  },
  {
   "cell_type": "code",
   "execution_count": 10,
   "id": "a61c4680",
   "metadata": {},
   "outputs": [],
   "source": [
    "# Applying the new function and creating a new column in the sample df\n",
    "df_sample['price_range'] = df_sample.apply(price_label, axis = 1)"
   ]
  },
  {
   "cell_type": "code",
   "execution_count": 11,
   "id": "e992c810",
   "metadata": {},
   "outputs": [
    {
     "data": {
      "text/plain": [
       "price_range\n",
       "Mid-range product    756450\n",
       "Low-range product    243550\n",
       "Name: count, dtype: int64"
      ]
     },
     "execution_count": 11,
     "metadata": {},
     "output_type": "execute_result"
    }
   ],
   "source": [
    "# Checking results for the new function\n",
    "df_sample['price_range'].value_counts(dropna = False)"
   ]
  },
  {
   "cell_type": "code",
   "execution_count": 12,
   "id": "dd3dccf2",
   "metadata": {},
   "outputs": [
    {
     "data": {
      "text/plain": [
       "14.8"
      ]
     },
     "execution_count": 12,
     "metadata": {},
     "output_type": "execute_result"
    }
   ],
   "source": [
    "# Checking the sample for max price\n",
    "df_sample['prices'].max()"
   ]
  },
  {
   "cell_type": "markdown",
   "id": "910a60b0",
   "metadata": {},
   "source": [
    "### 04 Working with the loc() function from the python libraries"
   ]
  },
  {
   "cell_type": "markdown",
   "id": "3297d225",
   "metadata": {},
   "source": [
    "#### Trying loc() function"
   ]
  },
  {
   "cell_type": "code",
   "execution_count": 13,
   "id": "1ad3e4b8",
   "metadata": {},
   "outputs": [
    {
     "name": "stderr",
     "output_type": "stream",
     "text": [
      "C:\\Users\\bfd_6\\AppData\\Local\\Temp\\ipykernel_35228\\2408366801.py:1: FutureWarning: Setting an item of incompatible dtype is deprecated and will raise in a future error of pandas. Value 'High-range product' has dtype incompatible with float64, please explicitly cast to a compatible dtype first.\n",
      "  df_sample.loc[df_sample['prices'] > 15, 'price_range_loc'] = 'High-range product'\n"
     ]
    }
   ],
   "source": [
    "df_sample.loc[df_sample['prices'] > 15, 'price_range_loc'] = 'High-range product'"
   ]
  },
  {
   "cell_type": "code",
   "execution_count": 14,
   "id": "4c0b9657",
   "metadata": {},
   "outputs": [],
   "source": [
    "df_sample.loc[(df_sample['prices'] <= 15) & (df_sample['prices'] > 5), 'price_range_loc'] = 'Mid range product'"
   ]
  },
  {
   "cell_type": "code",
   "execution_count": 15,
   "id": "543e5719",
   "metadata": {},
   "outputs": [],
   "source": [
    "df_sample.loc[df_sample['prices'] <= 5, 'price_range_loc'] = 'Low range product'"
   ]
  },
  {
   "cell_type": "code",
   "execution_count": 16,
   "id": "50300c0b",
   "metadata": {},
   "outputs": [
    {
     "data": {
      "text/plain": [
       "price_range_loc\n",
       "Mid range product    756450\n",
       "Low range product    243550\n",
       "Name: count, dtype: int64"
      ]
     },
     "execution_count": 16,
     "metadata": {},
     "output_type": "execute_result"
    }
   ],
   "source": [
    "df_sample['price_range_loc'].value_counts(dropna = False)"
   ]
  },
  {
   "cell_type": "markdown",
   "id": "379a2340",
   "metadata": {},
   "source": [
    "#### Applying the loc() function method to the full dataframe"
   ]
  },
  {
   "cell_type": "code",
   "execution_count": 17,
   "id": "888d3135",
   "metadata": {},
   "outputs": [
    {
     "name": "stderr",
     "output_type": "stream",
     "text": [
      "C:\\Users\\bfd_6\\AppData\\Local\\Temp\\ipykernel_35228\\4261036108.py:1: FutureWarning: Setting an item of incompatible dtype is deprecated and will raise in a future error of pandas. Value 'High-range product' has dtype incompatible with float64, please explicitly cast to a compatible dtype first.\n",
      "  df_op_merged.loc[df_op_merged['prices'] > 15, 'price_range_loc'] = 'High-range product'\n"
     ]
    }
   ],
   "source": [
    "df_op_merged.loc[df_op_merged['prices'] > 15, 'price_range_loc'] = 'High-range product'"
   ]
  },
  {
   "cell_type": "code",
   "execution_count": 18,
   "id": "2c8c035b",
   "metadata": {},
   "outputs": [],
   "source": [
    "df_op_merged.loc[(df_op_merged['prices'] <= 15) & (df_op_merged['prices'] > 5), 'price_range_loc'] = 'Mid-range product'"
   ]
  },
  {
   "cell_type": "code",
   "execution_count": 19,
   "id": "a0dcf314",
   "metadata": {},
   "outputs": [],
   "source": [
    "df_op_merged.loc[df_op_merged['prices'] <= 5, 'price_range_loc'] = 'Low-range product'"
   ]
  },
  {
   "cell_type": "code",
   "execution_count": 20,
   "id": "63de00ea",
   "metadata": {},
   "outputs": [
    {
     "data": {
      "text/plain": [
       "price_range_loc\n",
       "Mid-range product     21860860\n",
       "Low-range product     10126321\n",
       "High-range product      417678\n",
       "Name: count, dtype: int64"
      ]
     },
     "execution_count": 20,
     "metadata": {},
     "output_type": "execute_result"
    }
   ],
   "source": [
    "df_op_merged['price_range_loc'].value_counts(dropna = False)"
   ]
  },
  {
   "cell_type": "markdown",
   "id": "b78d970d",
   "metadata": {},
   "source": [
    "### 05 If statements with For loops"
   ]
  },
  {
   "cell_type": "markdown",
   "id": "6f22c075",
   "metadata": {},
   "source": [
    "#### Developing a flag to create subgroups of busiest days of the week."
   ]
  },
  {
   "cell_type": "code",
   "execution_count": 21,
   "id": "cca64445",
   "metadata": {},
   "outputs": [
    {
     "data": {
      "text/plain": [
       "orders_day_of_week\n",
       "0    6204182\n",
       "1    5660230\n",
       "6    4496490\n",
       "2    4213830\n",
       "5    4205791\n",
       "3    3840534\n",
       "4    3783802\n",
       "Name: count, dtype: int64"
      ]
     },
     "execution_count": 21,
     "metadata": {},
     "output_type": "execute_result"
    }
   ],
   "source": [
    "# Finding out which days are the busiest\n",
    "df_op_merged['orders_day_of_week'].value_counts(dropna = False)"
   ]
  },
  {
   "cell_type": "code",
   "execution_count": 22,
   "id": "6d8b57fa",
   "metadata": {},
   "outputs": [],
   "source": [
    "# Creating a list that will be merged to create a new column\n",
    "result = []\n",
    "\n",
    "for elf in df_op_merged[\"orders_day_of_week\"]:\n",
    "    if elf == 0:\n",
    "        result.append(\"Busiest Day\")\n",
    "    elif elf == 4:\n",
    "        result.append(\"Least Busy\")\n",
    "    else:\n",
    "        result.append(\"Regularly Busy\")"
   ]
  },
  {
   "cell_type": "code",
   "execution_count": 23,
   "id": "75edd865",
   "metadata": {},
   "outputs": [
    {
     "data": {
      "text/plain": [
       "['Regularly Busy',\n",
       " 'Regularly Busy',\n",
       " 'Regularly Busy',\n",
       " 'Least Busy',\n",
       " 'Least Busy',\n",
       " 'Regularly Busy',\n",
       " 'Regularly Busy',\n",
       " 'Regularly Busy',\n",
       " 'Regularly Busy',\n",
       " 'Least Busy']"
      ]
     },
     "execution_count": 23,
     "metadata": {},
     "output_type": "execute_result"
    }
   ],
   "source": [
    "# Printing first 10 lines of list rather than millions of lines\n",
    "result[:10]"
   ]
  },
  {
   "cell_type": "code",
   "execution_count": 24,
   "id": "e48dfb6b",
   "metadata": {},
   "outputs": [],
   "source": [
    "# Creating the \"Busiest Day\" column by merging the list \"result\"\n",
    "df_op_merged['busiest_day'] = result"
   ]
  },
  {
   "cell_type": "code",
   "execution_count": 25,
   "id": "97a6eaa5",
   "metadata": {},
   "outputs": [
    {
     "data": {
      "text/plain": [
       "busiest_day\n",
       "Regularly Busy    22416875\n",
       "Busiest Day        6204182\n",
       "Least Busy         3783802\n",
       "Name: count, dtype: int64"
      ]
     },
     "execution_count": 25,
     "metadata": {},
     "output_type": "execute_result"
    }
   ],
   "source": [
    "df_op_merged['busiest_day'].value_counts(dropna = False)"
   ]
  },
  {
   "cell_type": "markdown",
   "id": "7e3f595e",
   "metadata": {},
   "source": [
    "### 06 Handling a change request from a customer."
   ]
  },
  {
   "cell_type": "markdown",
   "id": "1a23989b",
   "metadata": {},
   "source": [
    "#### Generally, this would be a replacement of busiest_day with busiest_days. I'm electing to keep both for the purposes of this exercise. I'm interpreting the request to mean that the customer wants both Saturday and Sunday to have the \"Busiest days\" tag, and Tuesday and Wednesday to have the \"Slowest Days\" tag. In the field, I would clarify this with the client or my boss. "
   ]
  },
  {
   "cell_type": "code",
   "execution_count": 26,
   "id": "dcf6f476",
   "metadata": {},
   "outputs": [],
   "source": [
    "# Creating a list that will be merged to create the new column requested by the client\n",
    "n_list = []\n",
    "\n",
    "for grinch in df_op_merged[\"orders_day_of_week\"]:\n",
    "    if grinch == 0 or grinch == 1:\n",
    "        n_list.append(\"Busiest Days\")\n",
    "    elif grinch == 4 or grinch == 3:\n",
    "        n_list.append(\"Slowest Days\")\n",
    "    else:\n",
    "        n_list.append(\"Regular Day\")"
   ]
  },
  {
   "cell_type": "code",
   "execution_count": 27,
   "id": "c70ad5f4",
   "metadata": {},
   "outputs": [
    {
     "data": {
      "text/plain": [
       "['Regular Day',\n",
       " 'Slowest Days',\n",
       " 'Slowest Days',\n",
       " 'Slowest Days',\n",
       " 'Slowest Days',\n",
       " 'Regular Day',\n",
       " 'Busiest Days',\n",
       " 'Busiest Days',\n",
       " 'Busiest Days',\n",
       " 'Slowest Days']"
      ]
     },
     "execution_count": 27,
     "metadata": {},
     "output_type": "execute_result"
    }
   ],
   "source": [
    "n_list[:10]"
   ]
  },
  {
   "cell_type": "code",
   "execution_count": 28,
   "id": "160f998a",
   "metadata": {},
   "outputs": [],
   "source": [
    "# Creating the \"Busiest Days\" column by merging the list \"n_list\"\n",
    "df_op_merged['busiest_days'] = n_list"
   ]
  },
  {
   "cell_type": "code",
   "execution_count": 29,
   "id": "458e6a1a",
   "metadata": {},
   "outputs": [
    {
     "data": {
      "text/plain": [
       "busiest_days\n",
       "Regular Day     12916111\n",
       "Busiest Days    11864412\n",
       "Slowest Days     7624336\n",
       "Name: count, dtype: int64"
      ]
     },
     "execution_count": 29,
     "metadata": {},
     "output_type": "execute_result"
    }
   ],
   "source": [
    "df_op_merged['busiest_days'].value_counts(dropna = False)"
   ]
  },
  {
   "cell_type": "markdown",
   "id": "6722edf4",
   "metadata": {},
   "source": [
    "#### The results are as expected. Busiest days reflect the sum of Saturday and Sunday, Slowest days reflect the sum of Tuesday and Wednesday and the balance is reflected by Regular Day"
   ]
  },
  {
   "cell_type": "markdown",
   "id": "e04e80b7",
   "metadata": {},
   "source": [
    "### 07 Ad Hoc Request - Determining Busiest Period of the Day"
   ]
  },
  {
   "cell_type": "code",
   "execution_count": 30,
   "id": "b9ea1f74",
   "metadata": {},
   "outputs": [
    {
     "data": {
      "text/plain": [
       "order_hour_of_day\n",
       "10    2761760\n",
       "11    2736140\n",
       "14    2689136\n",
       "15    2662144\n",
       "13    2660954\n",
       "12    2618532\n",
       "16    2535202\n",
       "9     2454203\n",
       "17    2087654\n",
       "8     1718118\n",
       "18    1636502\n",
       "19    1258305\n",
       "20     976156\n",
       "7      891054\n",
       "21     795637\n",
       "22     634225\n",
       "23     402316\n",
       "6      290493\n",
       "0      218769\n",
       "1      115700\n",
       "5       87961\n",
       "2       69375\n",
       "4       53242\n",
       "3       51281\n",
       "Name: count, dtype: int64"
      ]
     },
     "execution_count": 30,
     "metadata": {},
     "output_type": "execute_result"
    }
   ],
   "source": [
    "# Finding out which hours are busiest\n",
    "df_op_merged['order_hour_of_day'].value_counts(dropna = False)"
   ]
  },
  {
   "cell_type": "markdown",
   "id": "6211bfa4",
   "metadata": {},
   "source": [
    "#### The time ranges were not specified in the client request. I would have clarified this with either my boss or the client. However, for the purposes of this exercise, I am specifying value_count less than 400,000 as Fewest, between 400,000 and less than 2 million as Average, and 2 million or greater as Most. That translates to less than 7 for Fewest, 7 - 9 am and 6 pm - midnight for Average, and 9 am until 6 pm for Most. "
   ]
  },
  {
   "cell_type": "code",
   "execution_count": 31,
   "id": "24235168",
   "metadata": {},
   "outputs": [],
   "source": [
    "# Creating a list that will be merged to create the new busiest_period_of_day column requested by the client\n",
    "sc_list = []\n",
    "\n",
    "for Santa in df_op_merged[\"order_hour_of_day\"]:\n",
    "    if Santa < 7:\n",
    "        sc_list.append(\"Fewest Orders\")\n",
    "    elif (Santa >= 7 and Santa < 9) or Santa >= 18:\n",
    "        sc_list.append(\"Average Orders\")\n",
    "    else:\n",
    "        sc_list.append(\"Most Orders\")"
   ]
  },
  {
   "cell_type": "code",
   "execution_count": 32,
   "id": "807ec2d7",
   "metadata": {},
   "outputs": [
    {
     "data": {
      "text/plain": [
       "['Most Orders',\n",
       " 'Most Orders',\n",
       " 'Average Orders',\n",
       " 'Most Orders',\n",
       " 'Most Orders',\n",
       " 'Most Orders',\n",
       " 'Most Orders',\n",
       " 'Most Orders',\n",
       " 'Most Orders',\n",
       " 'Most Orders',\n",
       " 'Most Orders',\n",
       " 'Most Orders',\n",
       " 'Most Orders',\n",
       " 'Most Orders',\n",
       " 'Most Orders',\n",
       " 'Most Orders',\n",
       " 'Most Orders',\n",
       " 'Average Orders',\n",
       " 'Most Orders',\n",
       " 'Most Orders']"
      ]
     },
     "execution_count": 32,
     "metadata": {},
     "output_type": "execute_result"
    }
   ],
   "source": [
    "# Checking a sample of the list\n",
    "sc_list[100:120]"
   ]
  },
  {
   "cell_type": "code",
   "execution_count": 33,
   "id": "5e7e017d",
   "metadata": {},
   "outputs": [
    {
     "name": "stdout",
     "output_type": "stream",
     "text": [
      "True\n"
     ]
    }
   ],
   "source": [
    "# Checking to see if the \"Fewest Orders\" value is present in sc_list\n",
    "print(\"Fewest Orders\" in sc_list)"
   ]
  },
  {
   "cell_type": "markdown",
   "id": "f2289878",
   "metadata": {},
   "source": [
    "### 08 Creating a flag by merging a list to the dataframe"
   ]
  },
  {
   "cell_type": "code",
   "execution_count": 34,
   "id": "8b792883",
   "metadata": {},
   "outputs": [],
   "source": [
    "# Creating the \"Busiest Period of Day\" column by merging the list \"sc_list\"\n",
    "df_op_merged['busiest_period_of_day'] = sc_list"
   ]
  },
  {
   "cell_type": "code",
   "execution_count": 35,
   "id": "d78b22ee",
   "metadata": {},
   "outputs": [
    {
     "data": {
      "text/plain": [
       "busiest_period_of_day\n",
       "Most Orders       23205725\n",
       "Average Orders     8312313\n",
       "Fewest Orders       886821\n",
       "Name: count, dtype: int64"
      ]
     },
     "execution_count": 35,
     "metadata": {},
     "output_type": "execute_result"
    }
   ],
   "source": [
    "# Reviewing the frequency of the busiest period of day column\n",
    "df_op_merged['busiest_period_of_day'].value_counts(dropna = False)"
   ]
  },
  {
   "cell_type": "code",
   "execution_count": 36,
   "id": "911cf50b",
   "metadata": {
    "scrolled": true
   },
   "outputs": [
    {
     "data": {
      "text/html": [
       "<div>\n",
       "<style scoped>\n",
       "    .dataframe tbody tr th:only-of-type {\n",
       "        vertical-align: middle;\n",
       "    }\n",
       "\n",
       "    .dataframe tbody tr th {\n",
       "        vertical-align: top;\n",
       "    }\n",
       "\n",
       "    .dataframe thead th {\n",
       "        text-align: right;\n",
       "    }\n",
       "</style>\n",
       "<table border=\"1\" class=\"dataframe\">\n",
       "  <thead>\n",
       "    <tr style=\"text-align: right;\">\n",
       "      <th></th>\n",
       "      <th>order_id</th>\n",
       "      <th>user_id</th>\n",
       "      <th>order_number</th>\n",
       "      <th>orders_day_of_week</th>\n",
       "      <th>order_hour_of_day</th>\n",
       "      <th>days_since_prior_order</th>\n",
       "      <th>product_id</th>\n",
       "      <th>add_to_cart_order</th>\n",
       "      <th>reordered</th>\n",
       "      <th>product_name</th>\n",
       "      <th>aisle_id</th>\n",
       "      <th>department_id</th>\n",
       "      <th>prices</th>\n",
       "      <th>_merge</th>\n",
       "      <th>price_range_loc</th>\n",
       "      <th>busiest_day</th>\n",
       "      <th>busiest_days</th>\n",
       "      <th>busiest_period_of_day</th>\n",
       "    </tr>\n",
       "  </thead>\n",
       "  <tbody>\n",
       "    <tr>\n",
       "      <th>0</th>\n",
       "      <td>2539329</td>\n",
       "      <td>1</td>\n",
       "      <td>1</td>\n",
       "      <td>2</td>\n",
       "      <td>8</td>\n",
       "      <td>NaN</td>\n",
       "      <td>196</td>\n",
       "      <td>1</td>\n",
       "      <td>0</td>\n",
       "      <td>Soda</td>\n",
       "      <td>77</td>\n",
       "      <td>7</td>\n",
       "      <td>9.0</td>\n",
       "      <td>both</td>\n",
       "      <td>Mid-range product</td>\n",
       "      <td>Regularly Busy</td>\n",
       "      <td>Regular Day</td>\n",
       "      <td>Average Orders</td>\n",
       "    </tr>\n",
       "    <tr>\n",
       "      <th>1</th>\n",
       "      <td>2398795</td>\n",
       "      <td>1</td>\n",
       "      <td>2</td>\n",
       "      <td>3</td>\n",
       "      <td>7</td>\n",
       "      <td>15.0</td>\n",
       "      <td>196</td>\n",
       "      <td>1</td>\n",
       "      <td>1</td>\n",
       "      <td>Soda</td>\n",
       "      <td>77</td>\n",
       "      <td>7</td>\n",
       "      <td>9.0</td>\n",
       "      <td>both</td>\n",
       "      <td>Mid-range product</td>\n",
       "      <td>Regularly Busy</td>\n",
       "      <td>Slowest Days</td>\n",
       "      <td>Average Orders</td>\n",
       "    </tr>\n",
       "    <tr>\n",
       "      <th>2</th>\n",
       "      <td>473747</td>\n",
       "      <td>1</td>\n",
       "      <td>3</td>\n",
       "      <td>3</td>\n",
       "      <td>12</td>\n",
       "      <td>21.0</td>\n",
       "      <td>196</td>\n",
       "      <td>1</td>\n",
       "      <td>1</td>\n",
       "      <td>Soda</td>\n",
       "      <td>77</td>\n",
       "      <td>7</td>\n",
       "      <td>9.0</td>\n",
       "      <td>both</td>\n",
       "      <td>Mid-range product</td>\n",
       "      <td>Regularly Busy</td>\n",
       "      <td>Slowest Days</td>\n",
       "      <td>Most Orders</td>\n",
       "    </tr>\n",
       "    <tr>\n",
       "      <th>3</th>\n",
       "      <td>2254736</td>\n",
       "      <td>1</td>\n",
       "      <td>4</td>\n",
       "      <td>4</td>\n",
       "      <td>7</td>\n",
       "      <td>29.0</td>\n",
       "      <td>196</td>\n",
       "      <td>1</td>\n",
       "      <td>1</td>\n",
       "      <td>Soda</td>\n",
       "      <td>77</td>\n",
       "      <td>7</td>\n",
       "      <td>9.0</td>\n",
       "      <td>both</td>\n",
       "      <td>Mid-range product</td>\n",
       "      <td>Least Busy</td>\n",
       "      <td>Slowest Days</td>\n",
       "      <td>Average Orders</td>\n",
       "    </tr>\n",
       "    <tr>\n",
       "      <th>4</th>\n",
       "      <td>431534</td>\n",
       "      <td>1</td>\n",
       "      <td>5</td>\n",
       "      <td>4</td>\n",
       "      <td>15</td>\n",
       "      <td>28.0</td>\n",
       "      <td>196</td>\n",
       "      <td>1</td>\n",
       "      <td>1</td>\n",
       "      <td>Soda</td>\n",
       "      <td>77</td>\n",
       "      <td>7</td>\n",
       "      <td>9.0</td>\n",
       "      <td>both</td>\n",
       "      <td>Mid-range product</td>\n",
       "      <td>Least Busy</td>\n",
       "      <td>Slowest Days</td>\n",
       "      <td>Most Orders</td>\n",
       "    </tr>\n",
       "    <tr>\n",
       "      <th>5</th>\n",
       "      <td>3367565</td>\n",
       "      <td>1</td>\n",
       "      <td>6</td>\n",
       "      <td>2</td>\n",
       "      <td>7</td>\n",
       "      <td>19.0</td>\n",
       "      <td>196</td>\n",
       "      <td>1</td>\n",
       "      <td>1</td>\n",
       "      <td>Soda</td>\n",
       "      <td>77</td>\n",
       "      <td>7</td>\n",
       "      <td>9.0</td>\n",
       "      <td>both</td>\n",
       "      <td>Mid-range product</td>\n",
       "      <td>Regularly Busy</td>\n",
       "      <td>Regular Day</td>\n",
       "      <td>Average Orders</td>\n",
       "    </tr>\n",
       "    <tr>\n",
       "      <th>6</th>\n",
       "      <td>550135</td>\n",
       "      <td>1</td>\n",
       "      <td>7</td>\n",
       "      <td>1</td>\n",
       "      <td>9</td>\n",
       "      <td>20.0</td>\n",
       "      <td>196</td>\n",
       "      <td>1</td>\n",
       "      <td>1</td>\n",
       "      <td>Soda</td>\n",
       "      <td>77</td>\n",
       "      <td>7</td>\n",
       "      <td>9.0</td>\n",
       "      <td>both</td>\n",
       "      <td>Mid-range product</td>\n",
       "      <td>Regularly Busy</td>\n",
       "      <td>Busiest Days</td>\n",
       "      <td>Most Orders</td>\n",
       "    </tr>\n",
       "    <tr>\n",
       "      <th>7</th>\n",
       "      <td>3108588</td>\n",
       "      <td>1</td>\n",
       "      <td>8</td>\n",
       "      <td>1</td>\n",
       "      <td>14</td>\n",
       "      <td>14.0</td>\n",
       "      <td>196</td>\n",
       "      <td>2</td>\n",
       "      <td>1</td>\n",
       "      <td>Soda</td>\n",
       "      <td>77</td>\n",
       "      <td>7</td>\n",
       "      <td>9.0</td>\n",
       "      <td>both</td>\n",
       "      <td>Mid-range product</td>\n",
       "      <td>Regularly Busy</td>\n",
       "      <td>Busiest Days</td>\n",
       "      <td>Most Orders</td>\n",
       "    </tr>\n",
       "    <tr>\n",
       "      <th>8</th>\n",
       "      <td>2295261</td>\n",
       "      <td>1</td>\n",
       "      <td>9</td>\n",
       "      <td>1</td>\n",
       "      <td>16</td>\n",
       "      <td>0.0</td>\n",
       "      <td>196</td>\n",
       "      <td>4</td>\n",
       "      <td>1</td>\n",
       "      <td>Soda</td>\n",
       "      <td>77</td>\n",
       "      <td>7</td>\n",
       "      <td>9.0</td>\n",
       "      <td>both</td>\n",
       "      <td>Mid-range product</td>\n",
       "      <td>Regularly Busy</td>\n",
       "      <td>Busiest Days</td>\n",
       "      <td>Most Orders</td>\n",
       "    </tr>\n",
       "    <tr>\n",
       "      <th>9</th>\n",
       "      <td>2550362</td>\n",
       "      <td>1</td>\n",
       "      <td>10</td>\n",
       "      <td>4</td>\n",
       "      <td>8</td>\n",
       "      <td>30.0</td>\n",
       "      <td>196</td>\n",
       "      <td>1</td>\n",
       "      <td>1</td>\n",
       "      <td>Soda</td>\n",
       "      <td>77</td>\n",
       "      <td>7</td>\n",
       "      <td>9.0</td>\n",
       "      <td>both</td>\n",
       "      <td>Mid-range product</td>\n",
       "      <td>Least Busy</td>\n",
       "      <td>Slowest Days</td>\n",
       "      <td>Average Orders</td>\n",
       "    </tr>\n",
       "    <tr>\n",
       "      <th>10</th>\n",
       "      <td>2968173</td>\n",
       "      <td>15</td>\n",
       "      <td>15</td>\n",
       "      <td>1</td>\n",
       "      <td>9</td>\n",
       "      <td>7.0</td>\n",
       "      <td>196</td>\n",
       "      <td>2</td>\n",
       "      <td>0</td>\n",
       "      <td>Soda</td>\n",
       "      <td>77</td>\n",
       "      <td>7</td>\n",
       "      <td>9.0</td>\n",
       "      <td>both</td>\n",
       "      <td>Mid-range product</td>\n",
       "      <td>Regularly Busy</td>\n",
       "      <td>Busiest Days</td>\n",
       "      <td>Most Orders</td>\n",
       "    </tr>\n",
       "    <tr>\n",
       "      <th>11</th>\n",
       "      <td>1870022</td>\n",
       "      <td>15</td>\n",
       "      <td>17</td>\n",
       "      <td>2</td>\n",
       "      <td>16</td>\n",
       "      <td>8.0</td>\n",
       "      <td>196</td>\n",
       "      <td>6</td>\n",
       "      <td>1</td>\n",
       "      <td>Soda</td>\n",
       "      <td>77</td>\n",
       "      <td>7</td>\n",
       "      <td>9.0</td>\n",
       "      <td>both</td>\n",
       "      <td>Mid-range product</td>\n",
       "      <td>Regularly Busy</td>\n",
       "      <td>Regular Day</td>\n",
       "      <td>Most Orders</td>\n",
       "    </tr>\n",
       "    <tr>\n",
       "      <th>12</th>\n",
       "      <td>1911383</td>\n",
       "      <td>15</td>\n",
       "      <td>18</td>\n",
       "      <td>2</td>\n",
       "      <td>11</td>\n",
       "      <td>7.0</td>\n",
       "      <td>196</td>\n",
       "      <td>1</td>\n",
       "      <td>1</td>\n",
       "      <td>Soda</td>\n",
       "      <td>77</td>\n",
       "      <td>7</td>\n",
       "      <td>9.0</td>\n",
       "      <td>both</td>\n",
       "      <td>Mid-range product</td>\n",
       "      <td>Regularly Busy</td>\n",
       "      <td>Regular Day</td>\n",
       "      <td>Most Orders</td>\n",
       "    </tr>\n",
       "    <tr>\n",
       "      <th>13</th>\n",
       "      <td>2715276</td>\n",
       "      <td>15</td>\n",
       "      <td>21</td>\n",
       "      <td>1</td>\n",
       "      <td>9</td>\n",
       "      <td>7.0</td>\n",
       "      <td>196</td>\n",
       "      <td>1</td>\n",
       "      <td>1</td>\n",
       "      <td>Soda</td>\n",
       "      <td>77</td>\n",
       "      <td>7</td>\n",
       "      <td>9.0</td>\n",
       "      <td>both</td>\n",
       "      <td>Mid-range product</td>\n",
       "      <td>Regularly Busy</td>\n",
       "      <td>Busiest Days</td>\n",
       "      <td>Most Orders</td>\n",
       "    </tr>\n",
       "    <tr>\n",
       "      <th>14</th>\n",
       "      <td>487368</td>\n",
       "      <td>15</td>\n",
       "      <td>22</td>\n",
       "      <td>1</td>\n",
       "      <td>10</td>\n",
       "      <td>14.0</td>\n",
       "      <td>196</td>\n",
       "      <td>1</td>\n",
       "      <td>1</td>\n",
       "      <td>Soda</td>\n",
       "      <td>77</td>\n",
       "      <td>7</td>\n",
       "      <td>9.0</td>\n",
       "      <td>both</td>\n",
       "      <td>Mid-range product</td>\n",
       "      <td>Regularly Busy</td>\n",
       "      <td>Busiest Days</td>\n",
       "      <td>Most Orders</td>\n",
       "    </tr>\n",
       "    <tr>\n",
       "      <th>15</th>\n",
       "      <td>2293453</td>\n",
       "      <td>19</td>\n",
       "      <td>2</td>\n",
       "      <td>5</td>\n",
       "      <td>14</td>\n",
       "      <td>6.0</td>\n",
       "      <td>196</td>\n",
       "      <td>3</td>\n",
       "      <td>0</td>\n",
       "      <td>Soda</td>\n",
       "      <td>77</td>\n",
       "      <td>7</td>\n",
       "      <td>9.0</td>\n",
       "      <td>both</td>\n",
       "      <td>Mid-range product</td>\n",
       "      <td>Regularly Busy</td>\n",
       "      <td>Regular Day</td>\n",
       "      <td>Most Orders</td>\n",
       "    </tr>\n",
       "    <tr>\n",
       "      <th>16</th>\n",
       "      <td>1973799</td>\n",
       "      <td>19</td>\n",
       "      <td>5</td>\n",
       "      <td>6</td>\n",
       "      <td>12</td>\n",
       "      <td>8.0</td>\n",
       "      <td>196</td>\n",
       "      <td>15</td>\n",
       "      <td>1</td>\n",
       "      <td>Soda</td>\n",
       "      <td>77</td>\n",
       "      <td>7</td>\n",
       "      <td>9.0</td>\n",
       "      <td>both</td>\n",
       "      <td>Mid-range product</td>\n",
       "      <td>Regularly Busy</td>\n",
       "      <td>Regular Day</td>\n",
       "      <td>Most Orders</td>\n",
       "    </tr>\n",
       "    <tr>\n",
       "      <th>17</th>\n",
       "      <td>532817</td>\n",
       "      <td>19</td>\n",
       "      <td>7</td>\n",
       "      <td>4</td>\n",
       "      <td>17</td>\n",
       "      <td>6.0</td>\n",
       "      <td>196</td>\n",
       "      <td>1</td>\n",
       "      <td>1</td>\n",
       "      <td>Soda</td>\n",
       "      <td>77</td>\n",
       "      <td>7</td>\n",
       "      <td>9.0</td>\n",
       "      <td>both</td>\n",
       "      <td>Mid-range product</td>\n",
       "      <td>Least Busy</td>\n",
       "      <td>Slowest Days</td>\n",
       "      <td>Most Orders</td>\n",
       "    </tr>\n",
       "    <tr>\n",
       "      <th>18</th>\n",
       "      <td>1573906</td>\n",
       "      <td>21</td>\n",
       "      <td>10</td>\n",
       "      <td>3</td>\n",
       "      <td>10</td>\n",
       "      <td>6.0</td>\n",
       "      <td>196</td>\n",
       "      <td>2</td>\n",
       "      <td>0</td>\n",
       "      <td>Soda</td>\n",
       "      <td>77</td>\n",
       "      <td>7</td>\n",
       "      <td>9.0</td>\n",
       "      <td>both</td>\n",
       "      <td>Mid-range product</td>\n",
       "      <td>Regularly Busy</td>\n",
       "      <td>Slowest Days</td>\n",
       "      <td>Most Orders</td>\n",
       "    </tr>\n",
       "    <tr>\n",
       "      <th>19</th>\n",
       "      <td>1593000</td>\n",
       "      <td>31</td>\n",
       "      <td>10</td>\n",
       "      <td>3</td>\n",
       "      <td>8</td>\n",
       "      <td>7.0</td>\n",
       "      <td>196</td>\n",
       "      <td>17</td>\n",
       "      <td>0</td>\n",
       "      <td>Soda</td>\n",
       "      <td>77</td>\n",
       "      <td>7</td>\n",
       "      <td>9.0</td>\n",
       "      <td>both</td>\n",
       "      <td>Mid-range product</td>\n",
       "      <td>Regularly Busy</td>\n",
       "      <td>Slowest Days</td>\n",
       "      <td>Average Orders</td>\n",
       "    </tr>\n",
       "  </tbody>\n",
       "</table>\n",
       "</div>"
      ],
      "text/plain": [
       "    order_id  user_id  order_number  orders_day_of_week  order_hour_of_day  \\\n",
       "0    2539329        1             1                   2                  8   \n",
       "1    2398795        1             2                   3                  7   \n",
       "2     473747        1             3                   3                 12   \n",
       "3    2254736        1             4                   4                  7   \n",
       "4     431534        1             5                   4                 15   \n",
       "5    3367565        1             6                   2                  7   \n",
       "6     550135        1             7                   1                  9   \n",
       "7    3108588        1             8                   1                 14   \n",
       "8    2295261        1             9                   1                 16   \n",
       "9    2550362        1            10                   4                  8   \n",
       "10   2968173       15            15                   1                  9   \n",
       "11   1870022       15            17                   2                 16   \n",
       "12   1911383       15            18                   2                 11   \n",
       "13   2715276       15            21                   1                  9   \n",
       "14    487368       15            22                   1                 10   \n",
       "15   2293453       19             2                   5                 14   \n",
       "16   1973799       19             5                   6                 12   \n",
       "17    532817       19             7                   4                 17   \n",
       "18   1573906       21            10                   3                 10   \n",
       "19   1593000       31            10                   3                  8   \n",
       "\n",
       "    days_since_prior_order  product_id  add_to_cart_order  reordered  \\\n",
       "0                      NaN         196                  1          0   \n",
       "1                     15.0         196                  1          1   \n",
       "2                     21.0         196                  1          1   \n",
       "3                     29.0         196                  1          1   \n",
       "4                     28.0         196                  1          1   \n",
       "5                     19.0         196                  1          1   \n",
       "6                     20.0         196                  1          1   \n",
       "7                     14.0         196                  2          1   \n",
       "8                      0.0         196                  4          1   \n",
       "9                     30.0         196                  1          1   \n",
       "10                     7.0         196                  2          0   \n",
       "11                     8.0         196                  6          1   \n",
       "12                     7.0         196                  1          1   \n",
       "13                     7.0         196                  1          1   \n",
       "14                    14.0         196                  1          1   \n",
       "15                     6.0         196                  3          0   \n",
       "16                     8.0         196                 15          1   \n",
       "17                     6.0         196                  1          1   \n",
       "18                     6.0         196                  2          0   \n",
       "19                     7.0         196                 17          0   \n",
       "\n",
       "   product_name  aisle_id  department_id  prices _merge    price_range_loc  \\\n",
       "0          Soda        77              7     9.0   both  Mid-range product   \n",
       "1          Soda        77              7     9.0   both  Mid-range product   \n",
       "2          Soda        77              7     9.0   both  Mid-range product   \n",
       "3          Soda        77              7     9.0   both  Mid-range product   \n",
       "4          Soda        77              7     9.0   both  Mid-range product   \n",
       "5          Soda        77              7     9.0   both  Mid-range product   \n",
       "6          Soda        77              7     9.0   both  Mid-range product   \n",
       "7          Soda        77              7     9.0   both  Mid-range product   \n",
       "8          Soda        77              7     9.0   both  Mid-range product   \n",
       "9          Soda        77              7     9.0   both  Mid-range product   \n",
       "10         Soda        77              7     9.0   both  Mid-range product   \n",
       "11         Soda        77              7     9.0   both  Mid-range product   \n",
       "12         Soda        77              7     9.0   both  Mid-range product   \n",
       "13         Soda        77              7     9.0   both  Mid-range product   \n",
       "14         Soda        77              7     9.0   both  Mid-range product   \n",
       "15         Soda        77              7     9.0   both  Mid-range product   \n",
       "16         Soda        77              7     9.0   both  Mid-range product   \n",
       "17         Soda        77              7     9.0   both  Mid-range product   \n",
       "18         Soda        77              7     9.0   both  Mid-range product   \n",
       "19         Soda        77              7     9.0   both  Mid-range product   \n",
       "\n",
       "       busiest_day  busiest_days busiest_period_of_day  \n",
       "0   Regularly Busy   Regular Day        Average Orders  \n",
       "1   Regularly Busy  Slowest Days        Average Orders  \n",
       "2   Regularly Busy  Slowest Days           Most Orders  \n",
       "3       Least Busy  Slowest Days        Average Orders  \n",
       "4       Least Busy  Slowest Days           Most Orders  \n",
       "5   Regularly Busy   Regular Day        Average Orders  \n",
       "6   Regularly Busy  Busiest Days           Most Orders  \n",
       "7   Regularly Busy  Busiest Days           Most Orders  \n",
       "8   Regularly Busy  Busiest Days           Most Orders  \n",
       "9       Least Busy  Slowest Days        Average Orders  \n",
       "10  Regularly Busy  Busiest Days           Most Orders  \n",
       "11  Regularly Busy   Regular Day           Most Orders  \n",
       "12  Regularly Busy   Regular Day           Most Orders  \n",
       "13  Regularly Busy  Busiest Days           Most Orders  \n",
       "14  Regularly Busy  Busiest Days           Most Orders  \n",
       "15  Regularly Busy   Regular Day           Most Orders  \n",
       "16  Regularly Busy   Regular Day           Most Orders  \n",
       "17      Least Busy  Slowest Days           Most Orders  \n",
       "18  Regularly Busy  Slowest Days           Most Orders  \n",
       "19  Regularly Busy  Slowest Days        Average Orders  "
      ]
     },
     "execution_count": 36,
     "metadata": {},
     "output_type": "execute_result"
    }
   ],
   "source": [
    "df_op_merged.head(20)"
   ]
  },
  {
   "cell_type": "markdown",
   "id": "bc8b58bf",
   "metadata": {},
   "source": [
    "### 09 Exporting df to pickle file"
   ]
  },
  {
   "cell_type": "code",
   "execution_count": 37,
   "id": "5aed88e0",
   "metadata": {},
   "outputs": [],
   "source": [
    "# Exporting pickle file to prepared data folder (columns added)\n",
    "df_op_merged.to_pickle(os.path.join(proj, '02 Data', 'Prepared Data', 'orders_products_merged.pkl'))"
   ]
  }
 ],
 "metadata": {
  "kernelspec": {
   "display_name": "Python 3 (ipykernel)",
   "language": "python",
   "name": "python3"
  },
  "language_info": {
   "codemirror_mode": {
    "name": "ipython",
    "version": 3
   },
   "file_extension": ".py",
   "mimetype": "text/x-python",
   "name": "python",
   "nbconvert_exporter": "python",
   "pygments_lexer": "ipython3",
   "version": "3.11.5"
  }
 },
 "nbformat": 4,
 "nbformat_minor": 5
}
